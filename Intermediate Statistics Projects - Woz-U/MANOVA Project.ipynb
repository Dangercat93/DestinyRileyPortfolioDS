{
 "cells": [
  {
   "cell_type": "code",
   "execution_count": 1,
   "id": "8ab9b1a2-5779-4d43-87fc-36bc3ee17ad4",
   "metadata": {},
   "outputs": [
    {
     "name": "stderr",
     "output_type": "stream",
     "text": [
      "Installing package into 'C:/Users/user/Documents/R/win-library/4.1'\n",
      "(as 'lib' is unspecified)\n",
      "\n"
     ]
    },
    {
     "name": "stdout",
     "output_type": "stream",
     "text": [
      "package 'mvnormtest' successfully unpacked and MD5 sums checked\n",
      "\n",
      "The downloaded binary packages are in\n",
      "\tC:\\Users\\user\\AppData\\Local\\Temp\\RtmpW8jZso\\downloaded_packages\n"
     ]
    },
    {
     "name": "stderr",
     "output_type": "stream",
     "text": [
      "Installing package into 'C:/Users/user/Documents/R/win-library/4.1'\n",
      "(as 'lib' is unspecified)\n",
      "\n"
     ]
    },
    {
     "name": "stdout",
     "output_type": "stream",
     "text": [
      "package 'car' successfully unpacked and MD5 sums checked\n",
      "\n",
      "The downloaded binary packages are in\n",
      "\tC:\\Users\\user\\AppData\\Local\\Temp\\RtmpW8jZso\\downloaded_packages\n"
     ]
    },
    {
     "name": "stderr",
     "output_type": "stream",
     "text": [
      "Installing package into 'C:/Users/user/Documents/R/win-library/4.1'\n",
      "(as 'lib' is unspecified)\n",
      "\n"
     ]
    },
    {
     "name": "stdout",
     "output_type": "stream",
     "text": [
      "package 'plyr' successfully unpacked and MD5 sums checked\n",
      "\n",
      "The downloaded binary packages are in\n",
      "\tC:\\Users\\user\\AppData\\Local\\Temp\\RtmpW8jZso\\downloaded_packages\n"
     ]
    },
    {
     "name": "stderr",
     "output_type": "stream",
     "text": [
      "Installing package into 'C:/Users/user/Documents/R/win-library/4.1'\n",
      "(as 'lib' is unspecified)\n",
      "\n"
     ]
    },
    {
     "name": "stdout",
     "output_type": "stream",
     "text": [
      "package 'ggplot2' successfully unpacked and MD5 sums checked\n",
      "\n",
      "The downloaded binary packages are in\n",
      "\tC:\\Users\\user\\AppData\\Local\\Temp\\RtmpW8jZso\\downloaded_packages\n"
     ]
    }
   ],
   "source": [
    "install.packages(\"mvnormtest\")\n",
    "install.packages(\"car\")\n",
    "install.packages(\"plyr\")\n",
    "install.packages(\"ggplot2\")"
   ]
  },
  {
   "cell_type": "code",
   "execution_count": 35,
   "id": "25f94355-c88c-4f7f-a7ab-8fe73265d3d7",
   "metadata": {},
   "outputs": [],
   "source": [
    "library(\"mvnormtest\")\n",
    "library(\"car\")\n",
    "library(\"plyr\")\n",
    "library(\"ggplot2\")"
   ]
  },
  {
   "cell_type": "code",
   "execution_count": 14,
   "id": "c3cda22d-7909-4a47-a29b-996367fe978b",
   "metadata": {},
   "outputs": [],
   "source": [
    "heartAttacks <- read.csv(\"C:/Users/user/Downloads/heartAttacks.csv\")"
   ]
  },
  {
   "cell_type": "code",
   "execution_count": 16,
   "id": "ee42fe03-b55a-4e17-8ae6-17bf8e5efb4c",
   "metadata": {},
   "outputs": [
    {
     "data": {
      "text/html": [
       "<table class=\"dataframe\">\n",
       "<caption>A data.frame: 6 × 14</caption>\n",
       "<thead>\n",
       "\t<tr><th></th><th scope=col>ï..age</th><th scope=col>sex</th><th scope=col>cp</th><th scope=col>trestbps</th><th scope=col>chol</th><th scope=col>fbs</th><th scope=col>restecg</th><th scope=col>thalach</th><th scope=col>exang</th><th scope=col>oldpeak</th><th scope=col>slope</th><th scope=col>ca</th><th scope=col>thal</th><th scope=col>target</th></tr>\n",
       "\t<tr><th></th><th scope=col>&lt;int&gt;</th><th scope=col>&lt;int&gt;</th><th scope=col>&lt;int&gt;</th><th scope=col>&lt;int&gt;</th><th scope=col>&lt;int&gt;</th><th scope=col>&lt;int&gt;</th><th scope=col>&lt;int&gt;</th><th scope=col>&lt;int&gt;</th><th scope=col>&lt;int&gt;</th><th scope=col>&lt;dbl&gt;</th><th scope=col>&lt;int&gt;</th><th scope=col>&lt;int&gt;</th><th scope=col>&lt;int&gt;</th><th scope=col>&lt;int&gt;</th></tr>\n",
       "</thead>\n",
       "<tbody>\n",
       "\t<tr><th scope=row>1</th><td>63</td><td>1</td><td>3</td><td>145</td><td>233</td><td>1</td><td>0</td><td>150</td><td>0</td><td>2.3</td><td>0</td><td>0</td><td>1</td><td>1</td></tr>\n",
       "\t<tr><th scope=row>2</th><td>37</td><td>1</td><td>2</td><td>130</td><td>250</td><td>0</td><td>1</td><td>187</td><td>0</td><td>3.5</td><td>0</td><td>0</td><td>2</td><td>1</td></tr>\n",
       "\t<tr><th scope=row>3</th><td>41</td><td>0</td><td>1</td><td>130</td><td>204</td><td>0</td><td>0</td><td>172</td><td>0</td><td>1.4</td><td>2</td><td>0</td><td>2</td><td>1</td></tr>\n",
       "\t<tr><th scope=row>4</th><td>56</td><td>1</td><td>1</td><td>120</td><td>236</td><td>0</td><td>1</td><td>178</td><td>0</td><td>0.8</td><td>2</td><td>0</td><td>2</td><td>1</td></tr>\n",
       "\t<tr><th scope=row>5</th><td>57</td><td>0</td><td>0</td><td>120</td><td>354</td><td>0</td><td>1</td><td>163</td><td>1</td><td>0.6</td><td>2</td><td>0</td><td>2</td><td>1</td></tr>\n",
       "\t<tr><th scope=row>6</th><td>57</td><td>1</td><td>0</td><td>140</td><td>192</td><td>0</td><td>1</td><td>148</td><td>0</td><td>0.4</td><td>1</td><td>0</td><td>1</td><td>1</td></tr>\n",
       "</tbody>\n",
       "</table>\n"
      ],
      "text/latex": [
       "A data.frame: 6 × 14\n",
       "\\begin{tabular}{r|llllllllllllll}\n",
       "  & ï..age & sex & cp & trestbps & chol & fbs & restecg & thalach & exang & oldpeak & slope & ca & thal & target\\\\\n",
       "  & <int> & <int> & <int> & <int> & <int> & <int> & <int> & <int> & <int> & <dbl> & <int> & <int> & <int> & <int>\\\\\n",
       "\\hline\n",
       "\t1 & 63 & 1 & 3 & 145 & 233 & 1 & 0 & 150 & 0 & 2.3 & 0 & 0 & 1 & 1\\\\\n",
       "\t2 & 37 & 1 & 2 & 130 & 250 & 0 & 1 & 187 & 0 & 3.5 & 0 & 0 & 2 & 1\\\\\n",
       "\t3 & 41 & 0 & 1 & 130 & 204 & 0 & 0 & 172 & 0 & 1.4 & 2 & 0 & 2 & 1\\\\\n",
       "\t4 & 56 & 1 & 1 & 120 & 236 & 0 & 1 & 178 & 0 & 0.8 & 2 & 0 & 2 & 1\\\\\n",
       "\t5 & 57 & 0 & 0 & 120 & 354 & 0 & 1 & 163 & 1 & 0.6 & 2 & 0 & 2 & 1\\\\\n",
       "\t6 & 57 & 1 & 0 & 140 & 192 & 0 & 1 & 148 & 0 & 0.4 & 1 & 0 & 1 & 1\\\\\n",
       "\\end{tabular}\n"
      ],
      "text/markdown": [
       "\n",
       "A data.frame: 6 × 14\n",
       "\n",
       "| <!--/--> | ï..age &lt;int&gt; | sex &lt;int&gt; | cp &lt;int&gt; | trestbps &lt;int&gt; | chol &lt;int&gt; | fbs &lt;int&gt; | restecg &lt;int&gt; | thalach &lt;int&gt; | exang &lt;int&gt; | oldpeak &lt;dbl&gt; | slope &lt;int&gt; | ca &lt;int&gt; | thal &lt;int&gt; | target &lt;int&gt; |\n",
       "|---|---|---|---|---|---|---|---|---|---|---|---|---|---|---|\n",
       "| 1 | 63 | 1 | 3 | 145 | 233 | 1 | 0 | 150 | 0 | 2.3 | 0 | 0 | 1 | 1 |\n",
       "| 2 | 37 | 1 | 2 | 130 | 250 | 0 | 1 | 187 | 0 | 3.5 | 0 | 0 | 2 | 1 |\n",
       "| 3 | 41 | 0 | 1 | 130 | 204 | 0 | 0 | 172 | 0 | 1.4 | 2 | 0 | 2 | 1 |\n",
       "| 4 | 56 | 1 | 1 | 120 | 236 | 0 | 1 | 178 | 0 | 0.8 | 2 | 0 | 2 | 1 |\n",
       "| 5 | 57 | 0 | 0 | 120 | 354 | 0 | 1 | 163 | 1 | 0.6 | 2 | 0 | 2 | 1 |\n",
       "| 6 | 57 | 1 | 0 | 140 | 192 | 0 | 1 | 148 | 0 | 0.4 | 1 | 0 | 1 | 1 |\n",
       "\n"
      ],
      "text/plain": [
       "  ï..age sex cp trestbps chol fbs restecg thalach exang oldpeak slope ca thal\n",
       "1 63     1   3  145      233  1   0       150     0     2.3     0     0  1   \n",
       "2 37     1   2  130      250  0   1       187     0     3.5     0     0  2   \n",
       "3 41     0   1  130      204  0   0       172     0     1.4     2     0  2   \n",
       "4 56     1   1  120      236  0   1       178     0     0.8     2     0  2   \n",
       "5 57     0   0  120      354  0   1       163     1     0.6     2     0  2   \n",
       "6 57     1   0  140      192  0   1       148     0     0.4     1     0  1   \n",
       "  target\n",
       "1 1     \n",
       "2 1     \n",
       "3 1     \n",
       "4 1     \n",
       "5 1     \n",
       "6 1     "
      ]
     },
     "metadata": {},
     "output_type": "display_data"
    }
   ],
   "source": [
    "head(heartAttacks)"
   ]
  },
  {
   "cell_type": "markdown",
   "id": "44418a61-d4f2-4f58-9a49-c875b7b5b45a",
   "metadata": {},
   "source": [
    "#### Independent variable: sex | Dependent variables: trestbps & chol"
   ]
  },
  {
   "cell_type": "code",
   "execution_count": 17,
   "id": "12a171bd-ae83-4d37-8d00-7febd2a2ecd2",
   "metadata": {},
   "outputs": [],
   "source": [
    "heartAttacks$trestbps <- as.numeric(heartAttacks$trestbps)\n",
    "heartAttacks$chol <- as.numeric(heartAttacks$chol)"
   ]
  },
  {
   "cell_type": "code",
   "execution_count": 39,
   "id": "78635690-cbf2-4325-afe2-23d532a97ea7",
   "metadata": {},
   "outputs": [],
   "source": [
    "heartAttacks$sexFactor <- as.factor(heartAttacks$sex)"
   ]
  },
  {
   "cell_type": "code",
   "execution_count": 40,
   "id": "f885f923-e505-43cd-973f-7338023c36dd",
   "metadata": {},
   "outputs": [],
   "source": [
    "keeps <- c(\"sexFactor\", \"trestbps\", \"chol\")"
   ]
  },
  {
   "cell_type": "code",
   "execution_count": 41,
   "id": "2375f575-372d-471e-ab96-77f185de0ad6",
   "metadata": {},
   "outputs": [],
   "source": [
    "heartAttacks1 <- heartAttacks[keeps]"
   ]
  },
  {
   "cell_type": "code",
   "execution_count": 43,
   "id": "613cac78-a107-4636-89a5-7af8cd61a920",
   "metadata": {},
   "outputs": [
    {
     "data": {
      "text/html": [
       "<table class=\"dataframe\">\n",
       "<caption>A data.frame: 2 × 2</caption>\n",
       "<thead>\n",
       "\t<tr><th scope=col>sexFactor</th><th scope=col>freq</th></tr>\n",
       "\t<tr><th scope=col>&lt;fct&gt;</th><th scope=col>&lt;int&gt;</th></tr>\n",
       "</thead>\n",
       "<tbody>\n",
       "\t<tr><td>0</td><td> 96</td></tr>\n",
       "\t<tr><td>1</td><td>207</td></tr>\n",
       "</tbody>\n",
       "</table>\n"
      ],
      "text/latex": [
       "A data.frame: 2 × 2\n",
       "\\begin{tabular}{ll}\n",
       " sexFactor & freq\\\\\n",
       " <fct> & <int>\\\\\n",
       "\\hline\n",
       "\t 0 &  96\\\\\n",
       "\t 1 & 207\\\\\n",
       "\\end{tabular}\n"
      ],
      "text/markdown": [
       "\n",
       "A data.frame: 2 × 2\n",
       "\n",
       "| sexFactor &lt;fct&gt; | freq &lt;int&gt; |\n",
       "|---|---|\n",
       "| 0 |  96 |\n",
       "| 1 | 207 |\n",
       "\n"
      ],
      "text/plain": [
       "  sexFactor freq\n",
       "1 0          96 \n",
       "2 1         207 "
      ]
     },
     "metadata": {},
     "output_type": "display_data"
    }
   ],
   "source": [
    "count(heartAttacks1, \"sexFactor\")"
   ]
  },
  {
   "cell_type": "markdown",
   "id": "6f2914ec-f19d-4753-9ee7-b09853ea319c",
   "metadata": {},
   "source": [
    "#### Sample size assumption met"
   ]
  },
  {
   "cell_type": "code",
   "execution_count": 44,
   "id": "d7d8f942-01a6-41d6-b1d9-43cada47ab3c",
   "metadata": {},
   "outputs": [],
   "source": [
    "## Shapiro test set up\n",
    "keeps1 <- c(\"trestbps\", \"chol\")\n",
    "heartAttacks2 <- data[keeps1]"
   ]
  },
  {
   "cell_type": "code",
   "execution_count": 46,
   "id": "35ea6e2a-a018-47e8-a49e-178aad8f9695",
   "metadata": {},
   "outputs": [
    {
     "ename": "ERROR",
     "evalue": "Error in heartAttacks2[1:500, ]: incorrect number of dimensions\n",
     "output_type": "error",
     "traceback": [
      "Error in heartAttacks2[1:500, ]: incorrect number of dimensions\nTraceback:\n",
      "1. mshapiro.test(t(heartAttacks2[1:500, ]))",
      "2. t(heartAttacks2[1:500, ])"
     ]
    }
   ],
   "source": [
    "mshapiro.test(t(heartAttacks2[1:500,]))"
   ]
  },
  {
   "cell_type": "code",
   "execution_count": 47,
   "id": "11eca8d0-ed55-449e-8a58-f3f96d6d76a8",
   "metadata": {},
   "outputs": [
    {
     "data": {
      "text/html": [
       "<table class=\"dataframe\">\n",
       "<caption>A anova: 2 × 3</caption>\n",
       "<thead>\n",
       "\t<tr><th></th><th scope=col>Df</th><th scope=col>F value</th><th scope=col>Pr(&gt;F)</th></tr>\n",
       "\t<tr><th></th><th scope=col>&lt;int&gt;</th><th scope=col>&lt;dbl&gt;</th><th scope=col>&lt;dbl&gt;</th></tr>\n",
       "</thead>\n",
       "<tbody>\n",
       "\t<tr><th scope=row>group</th><td>  1</td><td>1.359311</td><td>0.24458</td></tr>\n",
       "\t<tr><th scope=row> </th><td>301</td><td>      NA</td><td>     NA</td></tr>\n",
       "</tbody>\n",
       "</table>\n"
      ],
      "text/latex": [
       "A anova: 2 × 3\n",
       "\\begin{tabular}{r|lll}\n",
       "  & Df & F value & Pr(>F)\\\\\n",
       "  & <int> & <dbl> & <dbl>\\\\\n",
       "\\hline\n",
       "\tgroup &   1 & 1.359311 & 0.24458\\\\\n",
       "\t  & 301 &       NA &      NA\\\\\n",
       "\\end{tabular}\n"
      ],
      "text/markdown": [
       "\n",
       "A anova: 2 × 3\n",
       "\n",
       "| <!--/--> | Df &lt;int&gt; | F value &lt;dbl&gt; | Pr(&gt;F) &lt;dbl&gt; |\n",
       "|---|---|---|---|\n",
       "| group |   1 | 1.359311 | 0.24458 |\n",
       "| <!----> | 301 |       NA |      NA |\n",
       "\n"
      ],
      "text/plain": [
       "      Df  F value  Pr(>F) \n",
       "group   1 1.359311 0.24458\n",
       "      301       NA      NA"
      ]
     },
     "metadata": {},
     "output_type": "display_data"
    }
   ],
   "source": [
    "## Homogeneity of Variance\n",
    "leveneTest(trestbps ~ sexFactor, data=heartAttacks) ## Passes, p-value is > .05"
   ]
  },
  {
   "cell_type": "code",
   "execution_count": 48,
   "id": "7a31c3e5-d8b7-4577-9b23-47a7a9f70aae",
   "metadata": {},
   "outputs": [
    {
     "data": {
      "text/html": [
       "<table class=\"dataframe\">\n",
       "<caption>A anova: 2 × 3</caption>\n",
       "<thead>\n",
       "\t<tr><th></th><th scope=col>Df</th><th scope=col>F value</th><th scope=col>Pr(&gt;F)</th></tr>\n",
       "\t<tr><th></th><th scope=col>&lt;int&gt;</th><th scope=col>&lt;dbl&gt;</th><th scope=col>&lt;dbl&gt;</th></tr>\n",
       "</thead>\n",
       "<tbody>\n",
       "\t<tr><th scope=row>group</th><td>  1</td><td>11.37598</td><td>0.0008413142</td></tr>\n",
       "\t<tr><th scope=row> </th><td>301</td><td>      NA</td><td>          NA</td></tr>\n",
       "</tbody>\n",
       "</table>\n"
      ],
      "text/latex": [
       "A anova: 2 × 3\n",
       "\\begin{tabular}{r|lll}\n",
       "  & Df & F value & Pr(>F)\\\\\n",
       "  & <int> & <dbl> & <dbl>\\\\\n",
       "\\hline\n",
       "\tgroup &   1 & 11.37598 & 0.0008413142\\\\\n",
       "\t  & 301 &       NA &           NA\\\\\n",
       "\\end{tabular}\n"
      ],
      "text/markdown": [
       "\n",
       "A anova: 2 × 3\n",
       "\n",
       "| <!--/--> | Df &lt;int&gt; | F value &lt;dbl&gt; | Pr(&gt;F) &lt;dbl&gt; |\n",
       "|---|---|---|---|\n",
       "| group |   1 | 11.37598 | 0.0008413142 |\n",
       "| <!----> | 301 |       NA |           NA |\n",
       "\n"
      ],
      "text/plain": [
       "      Df  F value  Pr(>F)      \n",
       "group   1 11.37598 0.0008413142\n",
       "      301       NA           NA"
      ]
     },
     "metadata": {},
     "output_type": "display_data"
    }
   ],
   "source": [
    "leveneTest(chol ~ sexFactor, data=heartAttacks) ## Fails the assumption, p-value is < .05"
   ]
  },
  {
   "cell_type": "code",
   "execution_count": 49,
   "id": "f2288123-cb3b-4bb3-b920-adf49133fb51",
   "metadata": {},
   "outputs": [
    {
     "data": {
      "text/plain": [
       "\n",
       "\tPearson's product-moment correlation\n",
       "\n",
       "data:  heartAttacks$trestbps and heartAttacks$chol\n",
       "t = 2.1534, df = 301, p-value = 0.03208\n",
       "alternative hypothesis: true correlation is not equal to 0\n",
       "95 percent confidence interval:\n",
       " 0.01064389 0.23262366\n",
       "sample estimates:\n",
       "      cor \n",
       "0.1231742 \n"
      ]
     },
     "metadata": {},
     "output_type": "display_data"
    }
   ],
   "source": [
    "## Absence of Multicollinearity\n",
    "cor.test(heartAttacks$trestbps, heartAttacks$chol, method=\"pearson\", use=\"complete.obs\") # Meets the assumption"
   ]
  },
  {
   "cell_type": "code",
   "execution_count": 50,
   "id": "dd5f598d-e823-435d-9fcf-291b91a2cb25",
   "metadata": {},
   "outputs": [
    {
     "data": {
      "text/plain": [
       "           Df   Pillai approx F num Df den Df   Pr(>F)   \n",
       "sex         1 0.040235   6.2882      2    300 0.002112 **\n",
       "Residuals 301                                            \n",
       "---\n",
       "Signif. codes:  0 '***' 0.001 '**' 0.01 '*' 0.05 '.' 0.1 ' ' 1"
      ]
     },
     "metadata": {},
     "output_type": "display_data"
    }
   ],
   "source": [
    "## MANOVA\n",
    "MANOVA <- manova(cbind(trestbps, chol) ~ sex, data = heartAttacks)\n",
    "summary(MANOVA)"
   ]
  },
  {
   "cell_type": "code",
   "execution_count": 51,
   "id": "13c7fbc1-ee2f-40e5-9f3d-b11ff4575ecc",
   "metadata": {},
   "outputs": [
    {
     "data": {
      "text/plain": [
       " Response trestbps :\n",
       "             Df Sum Sq Mean Sq F value Pr(>F)\n",
       "sex           1    299  299.36  0.9732 0.3247\n",
       "Residuals   301  92592  307.61               \n",
       "\n",
       " Response chol :\n",
       "             Df Sum Sq Mean Sq F value  Pr(>F)    \n",
       "sex           1  31778   31778  12.271 0.00053 ***\n",
       "Residuals   301 779523    2590                    \n",
       "---\n",
       "Signif. codes:  0 '***' 0.001 '**' 0.01 '*' 0.05 '.' 0.1 ' ' 1\n"
      ]
     },
     "metadata": {},
     "output_type": "display_data"
    }
   ],
   "source": [
    "summary.aov(MANOVA, test = \"wilks\")"
   ]
  },
  {
   "cell_type": "markdown",
   "id": "179c27a7-3bec-4543-810d-069ccc2b718e",
   "metadata": {},
   "source": [
    "### Gender can provide some insight when looking at cholesterol as a heart attack predictor, but it doesn't do as well when considering resting blood pressure."
   ]
  }
 ],
 "metadata": {
  "kernelspec": {
   "display_name": "R",
   "language": "R",
   "name": "ir"
  },
  "language_info": {
   "codemirror_mode": "r",
   "file_extension": ".r",
   "mimetype": "text/x-r-source",
   "name": "R",
   "pygments_lexer": "r",
   "version": "4.1.1"
  }
 },
 "nbformat": 4,
 "nbformat_minor": 5
}
